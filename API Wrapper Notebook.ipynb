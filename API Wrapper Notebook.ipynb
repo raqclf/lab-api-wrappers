{
 "cells": [
  {
   "cell_type": "markdown",
   "id": "df7c6e06",
   "metadata": {},
   "source": [
    "## API Wrapper"
   ]
  },
  {
   "cell_type": "code",
   "execution_count": 1,
   "id": "dea2008c",
   "metadata": {},
   "outputs": [],
   "source": [
    "import spotipy\n",
    "from spotipy.oauth2 import SpotifyClientCredentials\n",
    "import pandas as pd"
   ]
  },
  {
   "cell_type": "code",
   "execution_count": 2,
   "id": "21dd36bb",
   "metadata": {},
   "outputs": [],
   "source": [
    "secrets_file = open(\"C:\\\\Users\\\\franc\\\\OneDrive\\\\Área de Trabalho\\Data Analytics\\\\Week 2\\\\6.05 API Wrappers, Spotipy\\\\secrets.txt\",\"r\")\n",
    "string = secrets_file.read()\n",
    "string.split('\\n')\n",
    "secrets_dict={}\n",
    "for line in string.split('\\n'):\n",
    "    if len(line) > 0:\n",
    "        secrets_dict[line.split(':')[0]]=line.split(':')[1]"
   ]
  },
  {
   "cell_type": "code",
   "execution_count": 3,
   "id": "dc2e6512",
   "metadata": {},
   "outputs": [],
   "source": [
    "#Initialize SpotiPy with user credentials\n",
    "sp = spotipy.Spotify(auth_manager=SpotifyClientCredentials(client_id=secrets_dict['cid'],\n",
    "                                                           client_secret=secrets_dict['csecret']))"
   ]
  },
  {
   "cell_type": "code",
   "execution_count": 4,
   "id": "d19e6ab3",
   "metadata": {},
   "outputs": [],
   "source": [
    "#playlist = sp.user_playlist_tracks(\"spotify\", \"1OfeGWEHudCL9mtqoR6Os8\") #test 1"
   ]
  },
  {
   "cell_type": "code",
   "execution_count": 5,
   "id": "4ca548d9",
   "metadata": {},
   "outputs": [],
   "source": [
    "#playlist = sp.user_playlist_tracks(\"spotify\", \"1C49yxU1XBkoq5yaVDbJwx\") #test 2 "
   ]
  },
  {
   "cell_type": "code",
   "execution_count": 6,
   "id": "14c81f1d",
   "metadata": {},
   "outputs": [],
   "source": [
    "playlist = sp.user_playlist_tracks(\"spotify\", \"69fEt9DN5r4JQATi52sRtq\") #list with a song from each Spotify genre"
   ]
  },
  {
   "cell_type": "code",
   "execution_count": 7,
   "id": "6b7dfe4a",
   "metadata": {
    "scrolled": true
   },
   "outputs": [
    {
     "data": {
      "text/plain": [
       "dict_keys(['href', 'items', 'limit', 'next', 'offset', 'previous', 'total'])"
      ]
     },
     "execution_count": 7,
     "metadata": {},
     "output_type": "execute_result"
    }
   ],
   "source": [
    "playlist.keys() "
   ]
  },
  {
   "cell_type": "code",
   "execution_count": 8,
   "id": "377dc45a",
   "metadata": {
    "scrolled": false
   },
   "outputs": [
    {
     "data": {
      "text/plain": [
       "dict_keys(['added_at', 'added_by', 'is_local', 'primary_color', 'track', 'video_thumbnail'])"
      ]
     },
     "execution_count": 8,
     "metadata": {},
     "output_type": "execute_result"
    }
   ],
   "source": [
    "playlist[\"items\"][0].keys()"
   ]
  },
  {
   "cell_type": "code",
   "execution_count": 9,
   "id": "276ac879",
   "metadata": {},
   "outputs": [
    {
     "data": {
      "text/plain": [
       "5888"
      ]
     },
     "execution_count": 9,
     "metadata": {},
     "output_type": "execute_result"
    }
   ],
   "source": [
    "playlist[\"total\"] "
   ]
  },
  {
   "cell_type": "code",
   "execution_count": 10,
   "id": "f3b6104c",
   "metadata": {},
   "outputs": [
    {
     "data": {
      "text/plain": [
       "100"
      ]
     },
     "execution_count": 10,
     "metadata": {},
     "output_type": "execute_result"
    }
   ],
   "source": [
    "len(playlist[\"items\"])"
   ]
  },
  {
   "cell_type": "code",
   "execution_count": 11,
   "id": "45e53495",
   "metadata": {
    "scrolled": true
   },
   "outputs": [
    {
     "data": {
      "text/plain": [
       "'https://api.spotify.com/v1/playlists/69fEt9DN5r4JQATi52sRtq/tracks?offset=100&limit=100&additional_types=track'"
      ]
     },
     "execution_count": 11,
     "metadata": {},
     "output_type": "execute_result"
    }
   ],
   "source": [
    "playlist['next'] #link to the next set of results"
   ]
  },
  {
   "cell_type": "code",
   "execution_count": 12,
   "id": "404a91ae",
   "metadata": {},
   "outputs": [],
   "source": [
    "from random import randint\n",
    "from time import sleep\n",
    "\n",
    "def get_playlist_tracks(playlist_id):\n",
    "    results = sp.user_playlist_tracks(\"spotify\",playlist_id)\n",
    "    tracks = results['items']\n",
    "    while results['next']!=None:\n",
    "        results = sp.next(results)\n",
    "        tracks = tracks + results['items']\n",
    "        sleep(randint(1,3))\n",
    "    return tracks"
   ]
  },
  {
   "cell_type": "code",
   "execution_count": 13,
   "id": "9fd949e9",
   "metadata": {},
   "outputs": [
    {
     "data": {
      "text/plain": [
       "5888"
      ]
     },
     "execution_count": 13,
     "metadata": {},
     "output_type": "execute_result"
    }
   ],
   "source": [
    "all_tracks = get_playlist_tracks(\"69fEt9DN5r4JQATi52sRtq\")\n",
    "len(all_tracks)"
   ]
  },
  {
   "cell_type": "code",
   "execution_count": 14,
   "id": "ed6f52cb",
   "metadata": {},
   "outputs": [
    {
     "data": {
      "text/plain": [
       "'spotify:artist:3L7fQ04gd9c8Yc5GSrzqzZ'"
      ]
     },
     "execution_count": 14,
     "metadata": {},
     "output_type": "execute_result"
    }
   ],
   "source": [
    "all_tracks[0][\"track\"]['album']['artists'][0]['uri']"
   ]
  },
  {
   "cell_type": "markdown",
   "id": "084b9351",
   "metadata": {},
   "source": [
    "An idea for collecting as many songs as possible is to start with all the songs of a big, diverse playlist and then go to every artist present in the playlist and grab every song of every album of that artist. The amount of songs you'll be collecting per playlist will grow exponentially!\n",
    "\n",
    "Playlist already too big. Processing is already too long."
   ]
  },
  {
   "cell_type": "code",
   "execution_count": 15,
   "id": "c44c53b6",
   "metadata": {},
   "outputs": [],
   "source": [
    "# get track info -  artist, song name and uri:\n",
    "def get_track_info(tracks):\n",
    "    \n",
    "    song_uri = []\n",
    "    artists = []\n",
    "    artist_uri = []\n",
    "    song_name = []\n",
    "    popularity = []\n",
    "    artist_uri = []\n",
    "    \n",
    "    for i in range(len(all_tracks)):\n",
    "        #get rid of duplicate songs\n",
    "        if tracks[i][\"track\"][\"uri\"] not in song_uri:\n",
    "            song_name.append(tracks[i][\"track\"][\"name\"])\n",
    "            song_uri.append(tracks[i][\"track\"][\"uri\"])\n",
    "            artists.append(tracks[i][\"track\"][\"artists\"][0][\"name\"])\n",
    "            artist_uri.append(tracks[i][\"track\"]['album']['artists'][0]['uri'])\n",
    "            popularity.append(tracks[i][\"track\"][\"popularity\"])\n",
    "            \n",
    "    track_info = {'artist' : artists , 'artist_uri': artist_uri, 'song' : song_name, 'song_uri':song_uri, 'popularity' : popularity}\n",
    "    \n",
    "    return track_info"
   ]
  },
  {
   "cell_type": "code",
   "execution_count": 16,
   "id": "e8e6aeae",
   "metadata": {},
   "outputs": [],
   "source": [
    "def get_features(song_uri):\n",
    "    features = []\n",
    "    for i in song_uri:\n",
    "        features.append(sp.audio_features(i))\n",
    "    return features"
   ]
  },
  {
   "cell_type": "code",
   "execution_count": 17,
   "id": "966124f9",
   "metadata": {},
   "outputs": [],
   "source": [
    "def get_genres(artist_uri):\n",
    "    genres = []\n",
    "    for i in artist_uri:\n",
    "        genres.append(sp.artist(i))\n",
    "    return genres    "
   ]
  },
  {
   "cell_type": "code",
   "execution_count": 25,
   "id": "a39ee1dd",
   "metadata": {},
   "outputs": [],
   "source": [
    "track_info = get_track_info(all_tracks)"
   ]
  },
  {
   "cell_type": "code",
   "execution_count": 19,
   "id": "8dc388ce",
   "metadata": {},
   "outputs": [
    {
     "data": {
      "text/plain": [
       "5887"
      ]
     },
     "execution_count": 19,
     "metadata": {},
     "output_type": "execute_result"
    }
   ],
   "source": [
    "len(track_info[\"song\"])"
   ]
  },
  {
   "cell_type": "code",
   "execution_count": 20,
   "id": "a1cc8c71",
   "metadata": {},
   "outputs": [],
   "source": [
    "artist_uri = track_info['artist_uri']"
   ]
  },
  {
   "cell_type": "code",
   "execution_count": 21,
   "id": "bd024311",
   "metadata": {},
   "outputs": [],
   "source": [
    "genres = get_genres(artist_uri)"
   ]
  },
  {
   "cell_type": "code",
   "execution_count": 22,
   "id": "bcdab4f9",
   "metadata": {},
   "outputs": [
    {
     "data": {
      "text/plain": [
       "5887"
      ]
     },
     "execution_count": 22,
     "metadata": {},
     "output_type": "execute_result"
    }
   ],
   "source": [
    "len(genres)"
   ]
  },
  {
   "cell_type": "code",
   "execution_count": 26,
   "id": "3d7b91d7",
   "metadata": {},
   "outputs": [],
   "source": [
    "#Genres dataframe"
   ]
  },
  {
   "cell_type": "code",
   "execution_count": 29,
   "id": "6c1532f8",
   "metadata": {},
   "outputs": [],
   "source": [
    "track_info['genres'] = genres"
   ]
  },
  {
   "cell_type": "code",
   "execution_count": null,
   "id": "fe87fead",
   "metadata": {},
   "outputs": [],
   "source": [
    "track_info"
   ]
  },
  {
   "cell_type": "code",
   "execution_count": 32,
   "id": "eec03995",
   "metadata": {},
   "outputs": [],
   "source": [
    "df_track_info = pd.DataFrame(track_info)"
   ]
  },
  {
   "cell_type": "code",
   "execution_count": 33,
   "id": "a04fde85",
   "metadata": {},
   "outputs": [
    {
     "data": {
      "text/html": [
       "<div>\n",
       "<style scoped>\n",
       "    .dataframe tbody tr th:only-of-type {\n",
       "        vertical-align: middle;\n",
       "    }\n",
       "\n",
       "    .dataframe tbody tr th {\n",
       "        vertical-align: top;\n",
       "    }\n",
       "\n",
       "    .dataframe thead th {\n",
       "        text-align: right;\n",
       "    }\n",
       "</style>\n",
       "<table border=\"1\" class=\"dataframe\">\n",
       "  <thead>\n",
       "    <tr style=\"text-align: right;\">\n",
       "      <th></th>\n",
       "      <th>artist</th>\n",
       "      <th>artist_uri</th>\n",
       "      <th>song</th>\n",
       "      <th>song_uri</th>\n",
       "      <th>popularity</th>\n",
       "      <th>genres</th>\n",
       "    </tr>\n",
       "  </thead>\n",
       "  <tbody>\n",
       "    <tr>\n",
       "      <th>0</th>\n",
       "      <td>Matthias Pintscher</td>\n",
       "      <td>spotify:artist:3L7fQ04gd9c8Yc5GSrzqzZ</td>\n",
       "      <td>Nemeton for solo Percussion</td>\n",
       "      <td>spotify:track:7wmm8ycV3DwStuQK0LGkdH</td>\n",
       "      <td>9</td>\n",
       "      <td>{'external_urls': {'spotify': 'https://open.sp...</td>\n",
       "    </tr>\n",
       "    <tr>\n",
       "      <th>1</th>\n",
       "      <td>Marc Van Mourik</td>\n",
       "      <td>spotify:artist:7s9gWdUK3IXsvkQP58Es4H</td>\n",
       "      <td>Pure</td>\n",
       "      <td>spotify:track:4cFb48uJoAaR0ZogBcUTM5</td>\n",
       "      <td>34</td>\n",
       "      <td>{'external_urls': {'spotify': 'https://open.sp...</td>\n",
       "    </tr>\n",
       "    <tr>\n",
       "      <th>2</th>\n",
       "      <td>NGT48</td>\n",
       "      <td>spotify:artist:4wZjP2p0Sm5EHM32uuAgGf</td>\n",
       "      <td>青春時計</td>\n",
       "      <td>spotify:track:62bPGqh8IYBpVOzxIxkrXA</td>\n",
       "      <td>31</td>\n",
       "      <td>{'external_urls': {'spotify': 'https://open.sp...</td>\n",
       "    </tr>\n",
       "    <tr>\n",
       "      <th>3</th>\n",
       "      <td>Carly Cosgrove</td>\n",
       "      <td>spotify:artist:4h3DxZa1JxZhSB1a64ziKx</td>\n",
       "      <td>Buttersock</td>\n",
       "      <td>spotify:track:5d3g3AivF2agJ99fFRrqkR</td>\n",
       "      <td>34</td>\n",
       "      <td>{'external_urls': {'spotify': 'https://open.sp...</td>\n",
       "    </tr>\n",
       "    <tr>\n",
       "      <th>4</th>\n",
       "      <td>Super Power Club</td>\n",
       "      <td>spotify:artist:5vGR79cM4EqZxXgvcExy7f</td>\n",
       "      <td>Seven Nation Army</td>\n",
       "      <td>spotify:track:3MTLncsF4tzTICc05bM034</td>\n",
       "      <td>21</td>\n",
       "      <td>{'external_urls': {'spotify': 'https://open.sp...</td>\n",
       "    </tr>\n",
       "    <tr>\n",
       "      <th>...</th>\n",
       "      <td>...</td>\n",
       "      <td>...</td>\n",
       "      <td>...</td>\n",
       "      <td>...</td>\n",
       "      <td>...</td>\n",
       "      <td>...</td>\n",
       "    </tr>\n",
       "    <tr>\n",
       "      <th>5882</th>\n",
       "      <td>Edith Lefel</td>\n",
       "      <td>spotify:artist:0nuevJYykJ4x09p8UIqmcS</td>\n",
       "      <td>Si seulement</td>\n",
       "      <td>spotify:track:200n4pv4B6L2LfcCaBcybk</td>\n",
       "      <td>31</td>\n",
       "      <td>{'external_urls': {'spotify': 'https://open.sp...</td>\n",
       "    </tr>\n",
       "    <tr>\n",
       "      <th>5883</th>\n",
       "      <td>Paille</td>\n",
       "      <td>spotify:artist:22odTnbJhyDIQFnp8z1PgA</td>\n",
       "      <td>Coucou freestyle, pt. 1</td>\n",
       "      <td>spotify:track:13uQwct5dTKpYAHVn5AysX</td>\n",
       "      <td>26</td>\n",
       "      <td>{'external_urls': {'spotify': 'https://open.sp...</td>\n",
       "    </tr>\n",
       "    <tr>\n",
       "      <th>5884</th>\n",
       "      <td>Sissy Fox</td>\n",
       "      <td>spotify:artist:2PiLMskYjBRTHmY6PoR31x</td>\n",
       "      <td>Young When The Rain Falls</td>\n",
       "      <td>spotify:track:4T4V2y8HwBOyjFUt4REcuk</td>\n",
       "      <td>2</td>\n",
       "      <td>{'external_urls': {'spotify': 'https://open.sp...</td>\n",
       "    </tr>\n",
       "    <tr>\n",
       "      <th>5885</th>\n",
       "      <td>Three AM Fuxk</td>\n",
       "      <td>spotify:artist:46WXN5rRkUX5bCvwsjics4</td>\n",
       "      <td>X</td>\n",
       "      <td>spotify:track:6vuEjpJFDnQfgSv2HYyC3h</td>\n",
       "      <td>52</td>\n",
       "      <td>{'external_urls': {'spotify': 'https://open.sp...</td>\n",
       "    </tr>\n",
       "    <tr>\n",
       "      <th>5886</th>\n",
       "      <td>Geno Delafose</td>\n",
       "      <td>spotify:artist:7zKDS8dI38NouMTa55W2xr</td>\n",
       "      <td>Hey, Geno!</td>\n",
       "      <td>spotify:track:2tOXNZmnNUgbYRQhwfySLj</td>\n",
       "      <td>23</td>\n",
       "      <td>{'external_urls': {'spotify': 'https://open.sp...</td>\n",
       "    </tr>\n",
       "  </tbody>\n",
       "</table>\n",
       "<p>5887 rows × 6 columns</p>\n",
       "</div>"
      ],
      "text/plain": [
       "                  artist                             artist_uri  \\\n",
       "0     Matthias Pintscher  spotify:artist:3L7fQ04gd9c8Yc5GSrzqzZ   \n",
       "1        Marc Van Mourik  spotify:artist:7s9gWdUK3IXsvkQP58Es4H   \n",
       "2                  NGT48  spotify:artist:4wZjP2p0Sm5EHM32uuAgGf   \n",
       "3         Carly Cosgrove  spotify:artist:4h3DxZa1JxZhSB1a64ziKx   \n",
       "4       Super Power Club  spotify:artist:5vGR79cM4EqZxXgvcExy7f   \n",
       "...                  ...                                    ...   \n",
       "5882         Edith Lefel  spotify:artist:0nuevJYykJ4x09p8UIqmcS   \n",
       "5883              Paille  spotify:artist:22odTnbJhyDIQFnp8z1PgA   \n",
       "5884           Sissy Fox  spotify:artist:2PiLMskYjBRTHmY6PoR31x   \n",
       "5885       Three AM Fuxk  spotify:artist:46WXN5rRkUX5bCvwsjics4   \n",
       "5886       Geno Delafose  spotify:artist:7zKDS8dI38NouMTa55W2xr   \n",
       "\n",
       "                             song                              song_uri  \\\n",
       "0     Nemeton for solo Percussion  spotify:track:7wmm8ycV3DwStuQK0LGkdH   \n",
       "1                            Pure  spotify:track:4cFb48uJoAaR0ZogBcUTM5   \n",
       "2                            青春時計  spotify:track:62bPGqh8IYBpVOzxIxkrXA   \n",
       "3                      Buttersock  spotify:track:5d3g3AivF2agJ99fFRrqkR   \n",
       "4               Seven Nation Army  spotify:track:3MTLncsF4tzTICc05bM034   \n",
       "...                           ...                                   ...   \n",
       "5882                 Si seulement  spotify:track:200n4pv4B6L2LfcCaBcybk   \n",
       "5883      Coucou freestyle, pt. 1  spotify:track:13uQwct5dTKpYAHVn5AysX   \n",
       "5884    Young When The Rain Falls  spotify:track:4T4V2y8HwBOyjFUt4REcuk   \n",
       "5885                            X  spotify:track:6vuEjpJFDnQfgSv2HYyC3h   \n",
       "5886                   Hey, Geno!  spotify:track:2tOXNZmnNUgbYRQhwfySLj   \n",
       "\n",
       "      popularity                                             genres  \n",
       "0              9  {'external_urls': {'spotify': 'https://open.sp...  \n",
       "1             34  {'external_urls': {'spotify': 'https://open.sp...  \n",
       "2             31  {'external_urls': {'spotify': 'https://open.sp...  \n",
       "3             34  {'external_urls': {'spotify': 'https://open.sp...  \n",
       "4             21  {'external_urls': {'spotify': 'https://open.sp...  \n",
       "...          ...                                                ...  \n",
       "5882          31  {'external_urls': {'spotify': 'https://open.sp...  \n",
       "5883          26  {'external_urls': {'spotify': 'https://open.sp...  \n",
       "5884           2  {'external_urls': {'spotify': 'https://open.sp...  \n",
       "5885          52  {'external_urls': {'spotify': 'https://open.sp...  \n",
       "5886          23  {'external_urls': {'spotify': 'https://open.sp...  \n",
       "\n",
       "[5887 rows x 6 columns]"
      ]
     },
     "execution_count": 33,
     "metadata": {},
     "output_type": "execute_result"
    }
   ],
   "source": [
    "df_track_info"
   ]
  },
  {
   "cell_type": "code",
   "execution_count": 35,
   "id": "445595b1",
   "metadata": {},
   "outputs": [],
   "source": [
    "df_genres = pd.DataFrame(dict(df_track_info['genres'])).T"
   ]
  },
  {
   "cell_type": "code",
   "execution_count": 36,
   "id": "d18ed36b",
   "metadata": {},
   "outputs": [
    {
     "name": "stderr",
     "output_type": "stream",
     "text": [
      "C:\\Users\\franc\\AppData\\Local\\Temp/ipykernel_6844/139770807.py:4: FutureWarning: Using the level keyword in DataFrame and Series aggregations is deprecated and will be removed in a future version. Use groupby instead. df.sum(level=1) should use df.groupby(level=1).sum().\n",
      "  df_genre = pd.get_dummies(df_genres['genres'].apply(pd.Series), prefix='', prefix_sep='').sum(level=0, axis=1)\n"
     ]
    }
   ],
   "source": [
    "#df_genres['genres'] = df_genres['genres'].str.split(',')\n",
    "#df_genres['genres'] = df_genres.drop('genres',1).join(df_genres.genres.str.join('|').str.get_dummies())\n",
    "#df_genres.isna().sum()\n",
    "df_genre = pd.get_dummies(df_genres['genres'].apply(pd.Series), prefix='', prefix_sep='').sum(level=0, axis=1)"
   ]
  },
  {
   "cell_type": "code",
   "execution_count": 37,
   "id": "f31a80bf",
   "metadata": {},
   "outputs": [],
   "source": [
    "#Features dataframe"
   ]
  },
  {
   "cell_type": "code",
   "execution_count": 41,
   "id": "c1cf25e3",
   "metadata": {},
   "outputs": [],
   "source": [
    "song_uri = track_info['song_uri']"
   ]
  },
  {
   "cell_type": "code",
   "execution_count": 42,
   "id": "065c71af",
   "metadata": {},
   "outputs": [
    {
     "data": {
      "text/plain": [
       "5887"
      ]
     },
     "execution_count": 42,
     "metadata": {},
     "output_type": "execute_result"
    }
   ],
   "source": [
    "features = get_features(song_uri)\n",
    "len(features)"
   ]
  },
  {
   "cell_type": "code",
   "execution_count": 43,
   "id": "0f778a49",
   "metadata": {},
   "outputs": [],
   "source": [
    "def flatten(input_list):\n",
    "    return [item for sublist in input_list for item in sublist]"
   ]
  },
  {
   "cell_type": "code",
   "execution_count": 44,
   "id": "db0e6977",
   "metadata": {},
   "outputs": [],
   "source": [
    "features = flatten(features)"
   ]
  },
  {
   "cell_type": "code",
   "execution_count": 45,
   "id": "ed91b9eb",
   "metadata": {},
   "outputs": [],
   "source": [
    "df_track_info['features'] = features"
   ]
  },
  {
   "cell_type": "code",
   "execution_count": 46,
   "id": "469f6186",
   "metadata": {},
   "outputs": [],
   "source": [
    "df_features = pd.DataFrame(dict(df_track_info['features'])).T"
   ]
  },
  {
   "cell_type": "code",
   "execution_count": 47,
   "id": "b6235a21",
   "metadata": {},
   "outputs": [
    {
     "data": {
      "text/html": [
       "<div>\n",
       "<style scoped>\n",
       "    .dataframe tbody tr th:only-of-type {\n",
       "        vertical-align: middle;\n",
       "    }\n",
       "\n",
       "    .dataframe tbody tr th {\n",
       "        vertical-align: top;\n",
       "    }\n",
       "\n",
       "    .dataframe thead th {\n",
       "        text-align: right;\n",
       "    }\n",
       "</style>\n",
       "<table border=\"1\" class=\"dataframe\">\n",
       "  <thead>\n",
       "    <tr style=\"text-align: right;\">\n",
       "      <th></th>\n",
       "      <th>danceability</th>\n",
       "      <th>energy</th>\n",
       "      <th>key</th>\n",
       "      <th>loudness</th>\n",
       "      <th>mode</th>\n",
       "      <th>speechiness</th>\n",
       "      <th>acousticness</th>\n",
       "      <th>instrumentalness</th>\n",
       "      <th>liveness</th>\n",
       "      <th>valence</th>\n",
       "      <th>tempo</th>\n",
       "      <th>type</th>\n",
       "      <th>id</th>\n",
       "      <th>uri</th>\n",
       "      <th>track_href</th>\n",
       "      <th>analysis_url</th>\n",
       "      <th>duration_ms</th>\n",
       "      <th>time_signature</th>\n",
       "    </tr>\n",
       "  </thead>\n",
       "  <tbody>\n",
       "    <tr>\n",
       "      <th>0</th>\n",
       "      <td>0.39</td>\n",
       "      <td>0.0692</td>\n",
       "      <td>0</td>\n",
       "      <td>-23.312</td>\n",
       "      <td>1</td>\n",
       "      <td>0.0905</td>\n",
       "      <td>0.435</td>\n",
       "      <td>0.504</td>\n",
       "      <td>0.0822</td>\n",
       "      <td>0.0433</td>\n",
       "      <td>76.465</td>\n",
       "      <td>audio_features</td>\n",
       "      <td>7wmm8ycV3DwStuQK0LGkdH</td>\n",
       "      <td>spotify:track:7wmm8ycV3DwStuQK0LGkdH</td>\n",
       "      <td>https://api.spotify.com/v1/tracks/7wmm8ycV3DwS...</td>\n",
       "      <td>https://api.spotify.com/v1/audio-analysis/7wmm...</td>\n",
       "      <td>740413</td>\n",
       "      <td>4</td>\n",
       "    </tr>\n",
       "    <tr>\n",
       "      <th>1</th>\n",
       "      <td>0.283</td>\n",
       "      <td>0.00966</td>\n",
       "      <td>0</td>\n",
       "      <td>-28.107</td>\n",
       "      <td>1</td>\n",
       "      <td>0.0327</td>\n",
       "      <td>0.993</td>\n",
       "      <td>0.807</td>\n",
       "      <td>0.0884</td>\n",
       "      <td>0.108</td>\n",
       "      <td>103.468</td>\n",
       "      <td>audio_features</td>\n",
       "      <td>4cFb48uJoAaR0ZogBcUTM5</td>\n",
       "      <td>spotify:track:4cFb48uJoAaR0ZogBcUTM5</td>\n",
       "      <td>https://api.spotify.com/v1/tracks/4cFb48uJoAaR...</td>\n",
       "      <td>https://api.spotify.com/v1/audio-analysis/4cFb...</td>\n",
       "      <td>259042</td>\n",
       "      <td>5</td>\n",
       "    </tr>\n",
       "    <tr>\n",
       "      <th>2</th>\n",
       "      <td>0.694</td>\n",
       "      <td>0.761</td>\n",
       "      <td>5</td>\n",
       "      <td>-4.087</td>\n",
       "      <td>0</td>\n",
       "      <td>0.0372</td>\n",
       "      <td>0.446</td>\n",
       "      <td>0</td>\n",
       "      <td>0.289</td>\n",
       "      <td>0.55</td>\n",
       "      <td>114.947</td>\n",
       "      <td>audio_features</td>\n",
       "      <td>62bPGqh8IYBpVOzxIxkrXA</td>\n",
       "      <td>spotify:track:62bPGqh8IYBpVOzxIxkrXA</td>\n",
       "      <td>https://api.spotify.com/v1/tracks/62bPGqh8IYBp...</td>\n",
       "      <td>https://api.spotify.com/v1/audio-analysis/62bP...</td>\n",
       "      <td>208467</td>\n",
       "      <td>4</td>\n",
       "    </tr>\n",
       "    <tr>\n",
       "      <th>3</th>\n",
       "      <td>0.487</td>\n",
       "      <td>0.75</td>\n",
       "      <td>0</td>\n",
       "      <td>-8.348</td>\n",
       "      <td>1</td>\n",
       "      <td>0.0516</td>\n",
       "      <td>0.0582</td>\n",
       "      <td>0.000008</td>\n",
       "      <td>0.283</td>\n",
       "      <td>0.823</td>\n",
       "      <td>127.769</td>\n",
       "      <td>audio_features</td>\n",
       "      <td>5d3g3AivF2agJ99fFRrqkR</td>\n",
       "      <td>spotify:track:5d3g3AivF2agJ99fFRrqkR</td>\n",
       "      <td>https://api.spotify.com/v1/tracks/5d3g3AivF2ag...</td>\n",
       "      <td>https://api.spotify.com/v1/audio-analysis/5d3g...</td>\n",
       "      <td>138688</td>\n",
       "      <td>4</td>\n",
       "    </tr>\n",
       "    <tr>\n",
       "      <th>4</th>\n",
       "      <td>0.646</td>\n",
       "      <td>0.279</td>\n",
       "      <td>4</td>\n",
       "      <td>-3.575</td>\n",
       "      <td>1</td>\n",
       "      <td>0.0545</td>\n",
       "      <td>0.149</td>\n",
       "      <td>0.915</td>\n",
       "      <td>0.0993</td>\n",
       "      <td>0.715</td>\n",
       "      <td>120.063</td>\n",
       "      <td>audio_features</td>\n",
       "      <td>3MTLncsF4tzTICc05bM034</td>\n",
       "      <td>spotify:track:3MTLncsF4tzTICc05bM034</td>\n",
       "      <td>https://api.spotify.com/v1/tracks/3MTLncsF4tzT...</td>\n",
       "      <td>https://api.spotify.com/v1/audio-analysis/3MTL...</td>\n",
       "      <td>147587</td>\n",
       "      <td>4</td>\n",
       "    </tr>\n",
       "    <tr>\n",
       "      <th>...</th>\n",
       "      <td>...</td>\n",
       "      <td>...</td>\n",
       "      <td>...</td>\n",
       "      <td>...</td>\n",
       "      <td>...</td>\n",
       "      <td>...</td>\n",
       "      <td>...</td>\n",
       "      <td>...</td>\n",
       "      <td>...</td>\n",
       "      <td>...</td>\n",
       "      <td>...</td>\n",
       "      <td>...</td>\n",
       "      <td>...</td>\n",
       "      <td>...</td>\n",
       "      <td>...</td>\n",
       "      <td>...</td>\n",
       "      <td>...</td>\n",
       "      <td>...</td>\n",
       "    </tr>\n",
       "    <tr>\n",
       "      <th>5882</th>\n",
       "      <td>0.571</td>\n",
       "      <td>0.75</td>\n",
       "      <td>7</td>\n",
       "      <td>-5.987</td>\n",
       "      <td>0</td>\n",
       "      <td>0.0307</td>\n",
       "      <td>0.419</td>\n",
       "      <td>0</td>\n",
       "      <td>0.104</td>\n",
       "      <td>0.563</td>\n",
       "      <td>87.982</td>\n",
       "      <td>audio_features</td>\n",
       "      <td>200n4pv4B6L2LfcCaBcybk</td>\n",
       "      <td>spotify:track:200n4pv4B6L2LfcCaBcybk</td>\n",
       "      <td>https://api.spotify.com/v1/tracks/200n4pv4B6L2...</td>\n",
       "      <td>https://api.spotify.com/v1/audio-analysis/200n...</td>\n",
       "      <td>242867</td>\n",
       "      <td>4</td>\n",
       "    </tr>\n",
       "    <tr>\n",
       "      <th>5883</th>\n",
       "      <td>0.602</td>\n",
       "      <td>0.795</td>\n",
       "      <td>2</td>\n",
       "      <td>-4.828</td>\n",
       "      <td>1</td>\n",
       "      <td>0.111</td>\n",
       "      <td>0.0458</td>\n",
       "      <td>0</td>\n",
       "      <td>0.166</td>\n",
       "      <td>0.858</td>\n",
       "      <td>127.993</td>\n",
       "      <td>audio_features</td>\n",
       "      <td>13uQwct5dTKpYAHVn5AysX</td>\n",
       "      <td>spotify:track:13uQwct5dTKpYAHVn5AysX</td>\n",
       "      <td>https://api.spotify.com/v1/tracks/13uQwct5dTKp...</td>\n",
       "      <td>https://api.spotify.com/v1/audio-analysis/13uQ...</td>\n",
       "      <td>149381</td>\n",
       "      <td>5</td>\n",
       "    </tr>\n",
       "    <tr>\n",
       "      <th>5884</th>\n",
       "      <td>0.866</td>\n",
       "      <td>0.695</td>\n",
       "      <td>8</td>\n",
       "      <td>-7.347</td>\n",
       "      <td>1</td>\n",
       "      <td>0.0357</td>\n",
       "      <td>0.335</td>\n",
       "      <td>0.884</td>\n",
       "      <td>0.126</td>\n",
       "      <td>0.899</td>\n",
       "      <td>117.031</td>\n",
       "      <td>audio_features</td>\n",
       "      <td>4T4V2y8HwBOyjFUt4REcuk</td>\n",
       "      <td>spotify:track:4T4V2y8HwBOyjFUt4REcuk</td>\n",
       "      <td>https://api.spotify.com/v1/tracks/4T4V2y8HwBOy...</td>\n",
       "      <td>https://api.spotify.com/v1/audio-analysis/4T4V...</td>\n",
       "      <td>211160</td>\n",
       "      <td>4</td>\n",
       "    </tr>\n",
       "    <tr>\n",
       "      <th>5885</th>\n",
       "      <td>0.523</td>\n",
       "      <td>0.391</td>\n",
       "      <td>4</td>\n",
       "      <td>-11.769</td>\n",
       "      <td>0</td>\n",
       "      <td>0.03</td>\n",
       "      <td>0.437</td>\n",
       "      <td>0.492</td>\n",
       "      <td>0.205</td>\n",
       "      <td>0.0378</td>\n",
       "      <td>109.952</td>\n",
       "      <td>audio_features</td>\n",
       "      <td>6vuEjpJFDnQfgSv2HYyC3h</td>\n",
       "      <td>spotify:track:6vuEjpJFDnQfgSv2HYyC3h</td>\n",
       "      <td>https://api.spotify.com/v1/tracks/6vuEjpJFDnQf...</td>\n",
       "      <td>https://api.spotify.com/v1/audio-analysis/6vuE...</td>\n",
       "      <td>169038</td>\n",
       "      <td>4</td>\n",
       "    </tr>\n",
       "    <tr>\n",
       "      <th>5886</th>\n",
       "      <td>0.739</td>\n",
       "      <td>0.806</td>\n",
       "      <td>5</td>\n",
       "      <td>-9.05</td>\n",
       "      <td>1</td>\n",
       "      <td>0.0662</td>\n",
       "      <td>0.149</td>\n",
       "      <td>0.677</td>\n",
       "      <td>0.264</td>\n",
       "      <td>0.948</td>\n",
       "      <td>100.419</td>\n",
       "      <td>audio_features</td>\n",
       "      <td>2tOXNZmnNUgbYRQhwfySLj</td>\n",
       "      <td>spotify:track:2tOXNZmnNUgbYRQhwfySLj</td>\n",
       "      <td>https://api.spotify.com/v1/tracks/2tOXNZmnNUgb...</td>\n",
       "      <td>https://api.spotify.com/v1/audio-analysis/2tOX...</td>\n",
       "      <td>212933</td>\n",
       "      <td>4</td>\n",
       "    </tr>\n",
       "  </tbody>\n",
       "</table>\n",
       "<p>5887 rows × 18 columns</p>\n",
       "</div>"
      ],
      "text/plain": [
       "     danceability   energy key loudness mode speechiness acousticness  \\\n",
       "0            0.39   0.0692   0  -23.312    1      0.0905        0.435   \n",
       "1           0.283  0.00966   0  -28.107    1      0.0327        0.993   \n",
       "2           0.694    0.761   5   -4.087    0      0.0372        0.446   \n",
       "3           0.487     0.75   0   -8.348    1      0.0516       0.0582   \n",
       "4           0.646    0.279   4   -3.575    1      0.0545        0.149   \n",
       "...           ...      ...  ..      ...  ...         ...          ...   \n",
       "5882        0.571     0.75   7   -5.987    0      0.0307        0.419   \n",
       "5883        0.602    0.795   2   -4.828    1       0.111       0.0458   \n",
       "5884        0.866    0.695   8   -7.347    1      0.0357        0.335   \n",
       "5885        0.523    0.391   4  -11.769    0        0.03        0.437   \n",
       "5886        0.739    0.806   5    -9.05    1      0.0662        0.149   \n",
       "\n",
       "     instrumentalness liveness valence    tempo            type  \\\n",
       "0               0.504   0.0822  0.0433   76.465  audio_features   \n",
       "1               0.807   0.0884   0.108  103.468  audio_features   \n",
       "2                   0    0.289    0.55  114.947  audio_features   \n",
       "3            0.000008    0.283   0.823  127.769  audio_features   \n",
       "4               0.915   0.0993   0.715  120.063  audio_features   \n",
       "...               ...      ...     ...      ...             ...   \n",
       "5882                0    0.104   0.563   87.982  audio_features   \n",
       "5883                0    0.166   0.858  127.993  audio_features   \n",
       "5884            0.884    0.126   0.899  117.031  audio_features   \n",
       "5885            0.492    0.205  0.0378  109.952  audio_features   \n",
       "5886            0.677    0.264   0.948  100.419  audio_features   \n",
       "\n",
       "                          id                                   uri  \\\n",
       "0     7wmm8ycV3DwStuQK0LGkdH  spotify:track:7wmm8ycV3DwStuQK0LGkdH   \n",
       "1     4cFb48uJoAaR0ZogBcUTM5  spotify:track:4cFb48uJoAaR0ZogBcUTM5   \n",
       "2     62bPGqh8IYBpVOzxIxkrXA  spotify:track:62bPGqh8IYBpVOzxIxkrXA   \n",
       "3     5d3g3AivF2agJ99fFRrqkR  spotify:track:5d3g3AivF2agJ99fFRrqkR   \n",
       "4     3MTLncsF4tzTICc05bM034  spotify:track:3MTLncsF4tzTICc05bM034   \n",
       "...                      ...                                   ...   \n",
       "5882  200n4pv4B6L2LfcCaBcybk  spotify:track:200n4pv4B6L2LfcCaBcybk   \n",
       "5883  13uQwct5dTKpYAHVn5AysX  spotify:track:13uQwct5dTKpYAHVn5AysX   \n",
       "5884  4T4V2y8HwBOyjFUt4REcuk  spotify:track:4T4V2y8HwBOyjFUt4REcuk   \n",
       "5885  6vuEjpJFDnQfgSv2HYyC3h  spotify:track:6vuEjpJFDnQfgSv2HYyC3h   \n",
       "5886  2tOXNZmnNUgbYRQhwfySLj  spotify:track:2tOXNZmnNUgbYRQhwfySLj   \n",
       "\n",
       "                                             track_href  \\\n",
       "0     https://api.spotify.com/v1/tracks/7wmm8ycV3DwS...   \n",
       "1     https://api.spotify.com/v1/tracks/4cFb48uJoAaR...   \n",
       "2     https://api.spotify.com/v1/tracks/62bPGqh8IYBp...   \n",
       "3     https://api.spotify.com/v1/tracks/5d3g3AivF2ag...   \n",
       "4     https://api.spotify.com/v1/tracks/3MTLncsF4tzT...   \n",
       "...                                                 ...   \n",
       "5882  https://api.spotify.com/v1/tracks/200n4pv4B6L2...   \n",
       "5883  https://api.spotify.com/v1/tracks/13uQwct5dTKp...   \n",
       "5884  https://api.spotify.com/v1/tracks/4T4V2y8HwBOy...   \n",
       "5885  https://api.spotify.com/v1/tracks/6vuEjpJFDnQf...   \n",
       "5886  https://api.spotify.com/v1/tracks/2tOXNZmnNUgb...   \n",
       "\n",
       "                                           analysis_url duration_ms  \\\n",
       "0     https://api.spotify.com/v1/audio-analysis/7wmm...      740413   \n",
       "1     https://api.spotify.com/v1/audio-analysis/4cFb...      259042   \n",
       "2     https://api.spotify.com/v1/audio-analysis/62bP...      208467   \n",
       "3     https://api.spotify.com/v1/audio-analysis/5d3g...      138688   \n",
       "4     https://api.spotify.com/v1/audio-analysis/3MTL...      147587   \n",
       "...                                                 ...         ...   \n",
       "5882  https://api.spotify.com/v1/audio-analysis/200n...      242867   \n",
       "5883  https://api.spotify.com/v1/audio-analysis/13uQ...      149381   \n",
       "5884  https://api.spotify.com/v1/audio-analysis/4T4V...      211160   \n",
       "5885  https://api.spotify.com/v1/audio-analysis/6vuE...      169038   \n",
       "5886  https://api.spotify.com/v1/audio-analysis/2tOX...      212933   \n",
       "\n",
       "     time_signature  \n",
       "0                 4  \n",
       "1                 5  \n",
       "2                 4  \n",
       "3                 4  \n",
       "4                 4  \n",
       "...             ...  \n",
       "5882              4  \n",
       "5883              5  \n",
       "5884              4  \n",
       "5885              4  \n",
       "5886              4  \n",
       "\n",
       "[5887 rows x 18 columns]"
      ]
     },
     "execution_count": 47,
     "metadata": {},
     "output_type": "execute_result"
    }
   ],
   "source": [
    "df_features"
   ]
  },
  {
   "cell_type": "code",
   "execution_count": 48,
   "id": "4ade9d73",
   "metadata": {},
   "outputs": [],
   "source": [
    "df_song_features = pd.concat([df_track_info, df_features], axis = 1 )\n",
    "df_song_features_genres = pd.concat([df_track_info, df_features, df_genre], axis = 1 )\n",
    "df_song_features = df_song_features.drop(['features', 'song_uri'], axis = 1)\n",
    "df_song_features_genres = df_song_features.drop(['features', 'song_uri', 'genres'], axis = 1)"
   ]
  },
  {
   "cell_type": "code",
   "execution_count": 49,
   "id": "d9cb29a6",
   "metadata": {},
   "outputs": [
    {
     "data": {
      "text/plain": [
       "artist                0\n",
       "artist_uri            0\n",
       "song                  0\n",
       "popularity            0\n",
       "danceability          0\n",
       "                     ..\n",
       "uk tech house         0\n",
       "olympia wa indie      0\n",
       "psychedelic punk      0\n",
       "nordic ambient        0\n",
       "polish modern jazz    0\n",
       "Length: 5582, dtype: int64"
      ]
     },
     "execution_count": 49,
     "metadata": {},
     "output_type": "execute_result"
    }
   ],
   "source": [
    "df_song_features.isna().sum()"
   ]
  },
  {
   "cell_type": "code",
   "execution_count": 50,
   "id": "57185afc",
   "metadata": {},
   "outputs": [],
   "source": [
    "df_song_features_genres.to_csv(\"df_song_features_genres.csv\")"
   ]
  },
  {
   "cell_type": "code",
   "execution_count": null,
   "id": "e9d9493d",
   "metadata": {},
   "outputs": [],
   "source": [
    "df_song_features.to_csv(\"df_song_features.csv\")"
   ]
  }
 ],
 "metadata": {
  "kernelspec": {
   "display_name": "Python 3 (ipykernel)",
   "language": "python",
   "name": "python3"
  },
  "language_info": {
   "codemirror_mode": {
    "name": "ipython",
    "version": 3
   },
   "file_extension": ".py",
   "mimetype": "text/x-python",
   "name": "python",
   "nbconvert_exporter": "python",
   "pygments_lexer": "ipython3",
   "version": "3.9.7"
  }
 },
 "nbformat": 4,
 "nbformat_minor": 5
}
